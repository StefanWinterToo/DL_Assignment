{
 "cells": [
  {
   "cell_type": "markdown",
   "source": [
    "Import the needed python packages"
   ],
   "metadata": {}
  },
  {
   "cell_type": "code",
   "execution_count": 2,
   "source": [
    "import tensorflow as tf\r\n",
    "import keras\r\n",
    "import matplotlib as plt\r\n",
    "import seaborn as sb\r\n",
    "import pandas as pd\r\n",
    "import numpy as np\r\n",
    "import scipy as sy\r\n",
    "import pickle"
   ],
   "outputs": [],
   "metadata": {}
  },
  {
   "cell_type": "markdown",
   "source": [
    "Load preprocessed Kaggle data"
   ],
   "metadata": {}
  },
  {
   "cell_type": "code",
   "execution_count": null,
   "source": [
    "file_train = open(\"training_dataset.pickle\",'rb')\r\n",
    "trainingdata = pickle.load(file_train)\r\n",
    "train_data, train_label = trainingdata['data'], trainingdata['label']\r\n",
    "\r\n",
    "file_validation = open(\"validation_dataset.pickle\",'rb')\r\n",
    "validationdata = pickle.load(file_validation)\r\n",
    "valid_data, valid_label = validationdata['data'], validationdata['label']"
   ],
   "outputs": [],
   "metadata": {}
  },
  {
   "cell_type": "markdown",
   "source": [
    "Create a the baseline CNN model"
   ],
   "metadata": {}
  },
  {
   "cell_type": "code",
   "execution_count": null,
   "source": [
    "# create a sequential model\r\n",
    "model = tf.keras.Sequential()\r\n",
    "\r\n",
    "# add layers\r\n",
    "model.add(tf.keras.layers.Input((100,100,3)))\r\n",
    "model.add(tf.keras.layers.Conv2D(16, (3,3), activation='relu'))\r\n",
    "model.add(tf.keras.layers.MaxPooling2D((2,2)))\r\n",
    "model.add(tf.keras.layers.Conv2D(16, (3,3), activation='relu'))\r\n",
    "model.add(tf.keras.layers.MaxPooling2D((2,2)))\r\n",
    "model.add(tf.keras.layers.Flatten())\r\n",
    "model.add(tf.keras.layers.Dense(64, activation='relu'))\r\n",
    "model.add(tf.keras.layers.Dense(1, activation='sigmoid'))"
   ],
   "outputs": [],
   "metadata": {}
  }
 ],
 "metadata": {
  "orig_nbformat": 4,
  "language_info": {
   "name": "python",
   "version": "3.9.5",
   "mimetype": "text/x-python",
   "codemirror_mode": {
    "name": "ipython",
    "version": 3
   },
   "pygments_lexer": "ipython3",
   "nbconvert_exporter": "python",
   "file_extension": ".py"
  },
  "kernelspec": {
   "name": "python3",
   "display_name": "Python 3.9.5 64-bit"
  },
  "interpreter": {
   "hash": "9ff7ad65fd33a767da5485be53880310ae0b5bdc0d199936e60539568ae78205"
  }
 },
 "nbformat": 4,
 "nbformat_minor": 2
}