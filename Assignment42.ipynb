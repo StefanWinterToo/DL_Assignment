{
 "cells": [
  {
   "cell_type": "markdown",
   "source": [
    "Import the needed python packages"
   ],
   "metadata": {}
  },
  {
   "cell_type": "code",
   "execution_count": null,
   "source": [
    "import tensorflow as tf\n",
    "import keras\n",
    "import matplotlib as plt\n",
    "import seaborn as sb\n",
    "import pandas as pd\n",
    "import numpy as np\n",
    "import scipy as sy\n",
    "import pickle"
   ],
   "outputs": [],
   "metadata": {}
  },
  {
   "cell_type": "markdown",
   "source": [
    "Load preprocessed Kaggle data"
   ],
   "metadata": {}
  },
  {
   "cell_type": "code",
   "execution_count": null,
   "source": [
    "file_train = open(\"training_dataset.pickle\",'rb')\n",
    "trainingdata = pickle.load(file_train)\n",
    "train_data, train_label = trainingdata['data'], trainingdata['label']\n",
    "\n",
    "file_validation = open(\"validation_dataset.pickle\",'rb')\n",
    "validationdata = pickle.load(file_validation)\n",
    "valid_data, valid_label = validationdata['data'], validationdata['label']"
   ],
   "outputs": [],
   "metadata": {}
  },
  {
   "cell_type": "markdown",
   "source": [
    "Create a the baseline CNN model"
   ],
   "metadata": {}
  },
  {
   "cell_type": "code",
   "execution_count": null,
   "source": [
    "# create a sequential model\n",
    "model = tf.keras.Sequential()\n",
    "\n",
    "# add layers\n",
    "model.add(tf.keras.layers.Input((100,100,3)))\n",
    "model.add(tf.keras.layers.Conv2D(16, (3,3), activation='relu'))\n",
    "model.add(tf.keras.layers.MaxPooling2D((2,2)))\n",
    "model.add(tf.keras.layers.Conv2D(16, (3,3), activation='relu'))\n",
    "model.add(tf.keras.layers.MaxPooling2D((2,2)))\n",
    "model.add(tf.keras.layers.Flatten())\n",
    "model.add(tf.keras.layers.Dense(64, activation='relu'))\n",
    "model.add(tf.keras.layers.Dense(1, activation='sigmoid'))"
   ],
   "outputs": [],
   "metadata": {}
  }
 ],
 "metadata": {
  "orig_nbformat": 4,
  "language_info": {
   "name": "python",
   "version": "3.7.11",
   "mimetype": "text/x-python",
   "codemirror_mode": {
    "name": "ipython",
    "version": 3
   },
   "pygments_lexer": "ipython3",
   "nbconvert_exporter": "python",
   "file_extension": ".py"
  },
  "kernelspec": {
   "name": "python3",
   "display_name": "Python 3.7.11 64-bit ('DL': conda)"
  },
  "interpreter": {
   "hash": "238d464876abfa2a0b8033a13a20e75b305b6968904b16766335119aff9d7323"
  }
 },
 "nbformat": 4,
 "nbformat_minor": 2
}